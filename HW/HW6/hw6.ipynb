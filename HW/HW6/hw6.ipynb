{
 "cells": [
  {
   "cell_type": "code",
   "execution_count": null,
   "metadata": {},
   "outputs": [],
   "source": [
    "%pip install pandas transformers[torch] evaluate rouge_score scikit-learn datasets\n",
    "%pip install accelerate -U"
   ]
  },
  {
   "cell_type": "markdown",
   "metadata": {},
   "source": [
    "# Part 1: Transformers\n",
    "## Task 1: BART for Text Summarization\n",
    "\n",
    "The data was obtain from: https://data.world/crawlfeeds/the-japan-times-news-dataset-may-31-2022\n",
    "It contains 3 features that we care about: the title of the article, the short description, and the\n",
    "news article itself."
   ]
  },
  {
   "cell_type": "code",
   "execution_count": 57,
   "metadata": {},
   "outputs": [],
   "source": [
    "import pandas as pd\n",
    "import evaluate\n",
    "import numpy as np\n",
    "import torch\n",
    "from sklearn.model_selection import train_test_split\n",
    "from transformers import BartTokenizer, BartForConditionalGeneration, DataCollatorForSeq2Seq, Seq2SeqTrainingArguments, Seq2SeqTrainer"
   ]
  },
  {
   "cell_type": "code",
   "execution_count": 58,
   "metadata": {},
   "outputs": [
    {
     "data": {
      "text/html": [
       "<div>\n",
       "<style scoped>\n",
       "    .dataframe tbody tr th:only-of-type {\n",
       "        vertical-align: middle;\n",
       "    }\n",
       "\n",
       "    .dataframe tbody tr th {\n",
       "        vertical-align: top;\n",
       "    }\n",
       "\n",
       "    .dataframe thead th {\n",
       "        text-align: right;\n",
       "    }\n",
       "</style>\n",
       "<table border=\"1\" class=\"dataframe\">\n",
       "  <thead>\n",
       "    <tr style=\"text-align: right;\">\n",
       "      <th></th>\n",
       "      <th>url</th>\n",
       "      <th>headline</th>\n",
       "      <th>shortDescription</th>\n",
       "      <th>siteName</th>\n",
       "      <th>author</th>\n",
       "      <th>datePublished</th>\n",
       "      <th>mainImage</th>\n",
       "      <th>breadcrumbs</th>\n",
       "      <th>newsDescription</th>\n",
       "      <th>newsRawDescription</th>\n",
       "      <th>credit</th>\n",
       "      <th>keywords</th>\n",
       "      <th>uniqId</th>\n",
       "      <th>scrapedAt</th>\n",
       "    </tr>\n",
       "  </thead>\n",
       "  <tbody>\n",
       "    <tr>\n",
       "      <th>0</th>\n",
       "      <td>https://www.japantimes.co.jp/news/2022/01/02/n...</td>\n",
       "      <td>Komeito chief calls for Japan to create Asian ...</td>\n",
       "      <td>Natsuo Yamaguchi proposed that Japan take the ...</td>\n",
       "      <td>The Japan Times</td>\n",
       "      <td>Jesse Johnson</td>\n",
       "      <td>2022-01-02T17:08:49+09:00</td>\n",
       "      <td>https://cdn-japantimes.com/wp-content/uploads/...</td>\n",
       "      <td>National,Politics</td>\n",
       "      <td>The leader of Komeito, the junior party in the...</td>\n",
       "      <td>&lt;p&gt;The leader of Komeito, the junior party in ...</td>\n",
       "      <td>STAFF WRITER</td>\n",
       "      <td>China, U.S., Taiwan, U.S. military, LDP, China...</td>\n",
       "      <td>09f7fcaa-dc24-55e1-b0b2-8fcfd111f7ae</td>\n",
       "      <td>31/05/2022 08:05:56</td>\n",
       "    </tr>\n",
       "    <tr>\n",
       "      <th>1</th>\n",
       "      <td>https://www.japantimes.co.jp/news/2020/08/14/n...</td>\n",
       "      <td>Moon Jae-in to focus on victims in 'comfort wo...</td>\n",
       "      <td>South Korean President Moon Jae-in vowed Frida...</td>\n",
       "      <td>The Japan Times</td>\n",
       "      <td>NaN</td>\n",
       "      <td>2020-08-14T18:54:42+09:00</td>\n",
       "      <td>https://cdn-japantimes.com/wp-content/uploads/...</td>\n",
       "      <td>National</td>\n",
       "      <td>CHEONAN, South Korea – South Korean President ...</td>\n",
       "      <td>&lt;p&gt;&lt;span class=\"dateline\"&gt;CHEONAN, South Korea...</td>\n",
       "      <td>REUTERS</td>\n",
       "      <td>WWII, South Korea, comfort women, South Korea-...</td>\n",
       "      <td>36268dbd-ca53-5ead-8478-84b8b3c09f8b</td>\n",
       "      <td>31/05/2022 08:05:56</td>\n",
       "    </tr>\n",
       "    <tr>\n",
       "      <th>2</th>\n",
       "      <td>https://www.japantimes.co.jp/news/2015/03/06/n...</td>\n",
       "      <td>Abandoned boats pose tsunami hazard at Nagoya ...</td>\n",
       "      <td>Nagoya authorities are worried that the more t...</td>\n",
       "      <td>The Japan Times</td>\n",
       "      <td>No Author</td>\n",
       "      <td>2015-03-06T16:28:09+09:00</td>\n",
       "      <td>https://cdn-japantimes.com/wp-content/uploads/...</td>\n",
       "      <td>National</td>\n",
       "      <td>Nagoya authorities are worried that the more t...</td>\n",
       "      <td>&lt;p&gt;Nagoya authorities are worried that the mor...</td>\n",
       "      <td>CHUNICHI SHIMBUN</td>\n",
       "      <td>tsunami, Nagoya, ships</td>\n",
       "      <td>f72e2178-1264-532e-aed4-74fd65ff5aa4</td>\n",
       "      <td>31/05/2022 08:05:57</td>\n",
       "    </tr>\n",
       "    <tr>\n",
       "      <th>3</th>\n",
       "      <td>https://www.japantimes.co.jp/news/2015/06/01/w...</td>\n",
       "      <td>NSA surveillance powers lapse after no deal in...</td>\n",
       "      <td>Three U.S. spy programs aimed at stopping terr...</td>\n",
       "      <td>The Japan Times</td>\n",
       "      <td>No Author</td>\n",
       "      <td>2015-06-01T13:26:48+09:00</td>\n",
       "      <td>https://cdn-japantimes.com/wp-content/uploads/...</td>\n",
       "      <td>Politics,World</td>\n",
       "      <td>WASHINGTON – Three U.S. spy programs aimed at ...</td>\n",
       "      <td>&lt;p&gt;&lt;span class=\"dateline\"&gt;WASHINGTON – &lt;/span&gt;...</td>\n",
       "      <td>BLOOMBERG</td>\n",
       "      <td>Barack Obama, Congress, privacy, Rand Paul, su...</td>\n",
       "      <td>afbdddc2-6de0-55a7-ac88-5ff738d0cf5c</td>\n",
       "      <td>31/05/2022 08:05:57</td>\n",
       "    </tr>\n",
       "    <tr>\n",
       "      <th>4</th>\n",
       "      <td>https://www.japantimes.co.jp/news/2021/06/03/b...</td>\n",
       "      <td>Mamma mia! Nintendo to open archive in Kyoto</td>\n",
       "      <td>The facility \"where Nintendo's historical prod...</td>\n",
       "      <td>The Japan Times</td>\n",
       "      <td>NaN</td>\n",
       "      <td>2021-06-03T01:27:43+09:00</td>\n",
       "      <td>https://cdn-japantimes.com/wp-content/uploads/...</td>\n",
       "      <td>Corporate,Business</td>\n",
       "      <td>After opening its first theme park area in Mar...</td>\n",
       "      <td>&lt;p&gt;After &lt;a href=\"https://www.japantimes.co.jp...</td>\n",
       "      <td>AFP-JIJI</td>\n",
       "      <td>Kyoto, Nintendo, museums, Super Mario, video g...</td>\n",
       "      <td>0757a539-0759-50ed-ac31-7045eda06a27</td>\n",
       "      <td>31/05/2022 08:05:57</td>\n",
       "    </tr>\n",
       "  </tbody>\n",
       "</table>\n",
       "</div>"
      ],
      "text/plain": [
       "                                                 url  \\\n",
       "0  https://www.japantimes.co.jp/news/2022/01/02/n...   \n",
       "1  https://www.japantimes.co.jp/news/2020/08/14/n...   \n",
       "2  https://www.japantimes.co.jp/news/2015/03/06/n...   \n",
       "3  https://www.japantimes.co.jp/news/2015/06/01/w...   \n",
       "4  https://www.japantimes.co.jp/news/2021/06/03/b...   \n",
       "\n",
       "                                            headline  \\\n",
       "0  Komeito chief calls for Japan to create Asian ...   \n",
       "1  Moon Jae-in to focus on victims in 'comfort wo...   \n",
       "2  Abandoned boats pose tsunami hazard at Nagoya ...   \n",
       "3  NSA surveillance powers lapse after no deal in...   \n",
       "4       Mamma mia! Nintendo to open archive in Kyoto   \n",
       "\n",
       "                                    shortDescription         siteName  \\\n",
       "0  Natsuo Yamaguchi proposed that Japan take the ...  The Japan Times   \n",
       "1  South Korean President Moon Jae-in vowed Frida...  The Japan Times   \n",
       "2  Nagoya authorities are worried that the more t...  The Japan Times   \n",
       "3  Three U.S. spy programs aimed at stopping terr...  The Japan Times   \n",
       "4  The facility \"where Nintendo's historical prod...  The Japan Times   \n",
       "\n",
       "          author              datePublished  \\\n",
       "0  Jesse Johnson  2022-01-02T17:08:49+09:00   \n",
       "1            NaN  2020-08-14T18:54:42+09:00   \n",
       "2      No Author  2015-03-06T16:28:09+09:00   \n",
       "3      No Author  2015-06-01T13:26:48+09:00   \n",
       "4            NaN  2021-06-03T01:27:43+09:00   \n",
       "\n",
       "                                           mainImage         breadcrumbs  \\\n",
       "0  https://cdn-japantimes.com/wp-content/uploads/...   National,Politics   \n",
       "1  https://cdn-japantimes.com/wp-content/uploads/...            National   \n",
       "2  https://cdn-japantimes.com/wp-content/uploads/...            National   \n",
       "3  https://cdn-japantimes.com/wp-content/uploads/...      Politics,World   \n",
       "4  https://cdn-japantimes.com/wp-content/uploads/...  Corporate,Business   \n",
       "\n",
       "                                     newsDescription  \\\n",
       "0  The leader of Komeito, the junior party in the...   \n",
       "1  CHEONAN, South Korea – South Korean President ...   \n",
       "2  Nagoya authorities are worried that the more t...   \n",
       "3  WASHINGTON – Three U.S. spy programs aimed at ...   \n",
       "4  After opening its first theme park area in Mar...   \n",
       "\n",
       "                                  newsRawDescription            credit  \\\n",
       "0  <p>The leader of Komeito, the junior party in ...      STAFF WRITER   \n",
       "1  <p><span class=\"dateline\">CHEONAN, South Korea...           REUTERS   \n",
       "2  <p>Nagoya authorities are worried that the mor...  CHUNICHI SHIMBUN   \n",
       "3  <p><span class=\"dateline\">WASHINGTON – </span>...         BLOOMBERG   \n",
       "4  <p>After <a href=\"https://www.japantimes.co.jp...          AFP-JIJI   \n",
       "\n",
       "                                            keywords  \\\n",
       "0  China, U.S., Taiwan, U.S. military, LDP, China...   \n",
       "1  WWII, South Korea, comfort women, South Korea-...   \n",
       "2                             tsunami, Nagoya, ships   \n",
       "3  Barack Obama, Congress, privacy, Rand Paul, su...   \n",
       "4  Kyoto, Nintendo, museums, Super Mario, video g...   \n",
       "\n",
       "                                 uniqId            scrapedAt  \n",
       "0  09f7fcaa-dc24-55e1-b0b2-8fcfd111f7ae  31/05/2022 08:05:56  \n",
       "1  36268dbd-ca53-5ead-8478-84b8b3c09f8b  31/05/2022 08:05:56  \n",
       "2  f72e2178-1264-532e-aed4-74fd65ff5aa4  31/05/2022 08:05:57  \n",
       "3  afbdddc2-6de0-55a7-ac88-5ff738d0cf5c  31/05/2022 08:05:57  \n",
       "4  0757a539-0759-50ed-ac31-7045eda06a27  31/05/2022 08:05:57  "
      ]
     },
     "execution_count": 58,
     "metadata": {},
     "output_type": "execute_result"
    }
   ],
   "source": [
    "data_dir = \"./the_japan_times_data_1_2022_05 copy.csv\"\n",
    "df = pd.read_csv(data_dir)\n",
    "df.head()"
   ]
  },
  {
   "cell_type": "code",
   "execution_count": 59,
   "metadata": {},
   "outputs": [
    {
     "data": {
      "text/html": [
       "<div>\n",
       "<style scoped>\n",
       "    .dataframe tbody tr th:only-of-type {\n",
       "        vertical-align: middle;\n",
       "    }\n",
       "\n",
       "    .dataframe tbody tr th {\n",
       "        vertical-align: top;\n",
       "    }\n",
       "\n",
       "    .dataframe thead th {\n",
       "        text-align: right;\n",
       "    }\n",
       "</style>\n",
       "<table border=\"1\" class=\"dataframe\">\n",
       "  <thead>\n",
       "    <tr style=\"text-align: right;\">\n",
       "      <th></th>\n",
       "      <th>headline</th>\n",
       "      <th>shortDescription</th>\n",
       "      <th>newsDescription</th>\n",
       "    </tr>\n",
       "  </thead>\n",
       "  <tbody>\n",
       "    <tr>\n",
       "      <th>0</th>\n",
       "      <td>Komeito chief calls for Japan to create Asian ...</td>\n",
       "      <td>Natsuo Yamaguchi proposed that Japan take the ...</td>\n",
       "      <td>The leader of Komeito, the junior party in the...</td>\n",
       "    </tr>\n",
       "    <tr>\n",
       "      <th>1</th>\n",
       "      <td>Moon Jae-in to focus on victims in 'comfort wo...</td>\n",
       "      <td>South Korean President Moon Jae-in vowed Frida...</td>\n",
       "      <td>CHEONAN, South Korea – South Korean President ...</td>\n",
       "    </tr>\n",
       "    <tr>\n",
       "      <th>2</th>\n",
       "      <td>Abandoned boats pose tsunami hazard at Nagoya ...</td>\n",
       "      <td>Nagoya authorities are worried that the more t...</td>\n",
       "      <td>Nagoya authorities are worried that the more t...</td>\n",
       "    </tr>\n",
       "    <tr>\n",
       "      <th>3</th>\n",
       "      <td>NSA surveillance powers lapse after no deal in...</td>\n",
       "      <td>Three U.S. spy programs aimed at stopping terr...</td>\n",
       "      <td>WASHINGTON – Three U.S. spy programs aimed at ...</td>\n",
       "    </tr>\n",
       "    <tr>\n",
       "      <th>4</th>\n",
       "      <td>Mamma mia! Nintendo to open archive in Kyoto</td>\n",
       "      <td>The facility \"where Nintendo's historical prod...</td>\n",
       "      <td>After opening its first theme park area in Mar...</td>\n",
       "    </tr>\n",
       "  </tbody>\n",
       "</table>\n",
       "</div>"
      ],
      "text/plain": [
       "                                            headline  \\\n",
       "0  Komeito chief calls for Japan to create Asian ...   \n",
       "1  Moon Jae-in to focus on victims in 'comfort wo...   \n",
       "2  Abandoned boats pose tsunami hazard at Nagoya ...   \n",
       "3  NSA surveillance powers lapse after no deal in...   \n",
       "4       Mamma mia! Nintendo to open archive in Kyoto   \n",
       "\n",
       "                                    shortDescription  \\\n",
       "0  Natsuo Yamaguchi proposed that Japan take the ...   \n",
       "1  South Korean President Moon Jae-in vowed Frida...   \n",
       "2  Nagoya authorities are worried that the more t...   \n",
       "3  Three U.S. spy programs aimed at stopping terr...   \n",
       "4  The facility \"where Nintendo's historical prod...   \n",
       "\n",
       "                                     newsDescription  \n",
       "0  The leader of Komeito, the junior party in the...  \n",
       "1  CHEONAN, South Korea – South Korean President ...  \n",
       "2  Nagoya authorities are worried that the more t...  \n",
       "3  WASHINGTON – Three U.S. spy programs aimed at ...  \n",
       "4  After opening its first theme park area in Mar...  "
      ]
     },
     "execution_count": 59,
     "metadata": {},
     "output_type": "execute_result"
    }
   ],
   "source": [
    "# Removing unnecessary columns\n",
    "df.drop([\"newsRawDescription\", \"url\", \"siteName\", \"author\", \"datePublished\", \"mainImage\", \"breadcrumbs\", \"credit\", \"keywords\", \"uniqId\", \"scrapedAt\"], axis=1, inplace=True)\n",
    "df.head()"
   ]
  },
  {
   "cell_type": "code",
   "execution_count": 60,
   "metadata": {},
   "outputs": [
    {
     "data": {
      "text/plain": [
       "headline            0\n",
       "shortDescription    0\n",
       "newsDescription     0\n",
       "dtype: int64"
      ]
     },
     "execution_count": 60,
     "metadata": {},
     "output_type": "execute_result"
    }
   ],
   "source": [
    "# Checking for missing values\n",
    "df.isnull().sum()"
   ]
  },
  {
   "cell_type": "code",
   "execution_count": 61,
   "metadata": {},
   "outputs": [
    {
     "name": "stdout",
     "output_type": "stream",
     "text": [
      "601\n"
     ]
    }
   ],
   "source": [
    "print(len(df))"
   ]
  },
  {
   "cell_type": "code",
   "execution_count": 62,
   "metadata": {},
   "outputs": [],
   "source": [
    "# Removing extra text from newsDescription\n",
    "extra_text = \"~This could be due to a conflict with your ad-blocking or security software.~Please add japantimes.co.jp and piano.io to your list of allowed sites. ~If this does not resolve the issue or you are unable to add the domains to your allowlist, please see out this support page. ~We humbly apologize for the inconvenience.\"\n",
    "for i in range(len(df)):\n",
    "    if extra_text in df[\"newsDescription\"][i]:\n",
    "        df.loc[i, \"newsDescription\"] = df[\"newsDescription\"][i].replace(extra_text, \"\")"
   ]
  },
  {
   "cell_type": "code",
   "execution_count": 63,
   "metadata": {},
   "outputs": [
    {
     "name": "stdout",
     "output_type": "stream",
     "text": [
      "description: 15201\n",
      "title: 121\n",
      "summary: 265\n"
     ]
    }
   ],
   "source": [
    "# max length of columns\n",
    "print(f\"description: {df['newsDescription'].apply(lambda x: len(x)).max()}\")\n",
    "print(f\"title: {df['headline'].apply(lambda x: len(x)).max()}\")\n",
    "print(f\"summary: {df['shortDescription'].apply(lambda x: len(x)).max()}\")"
   ]
  },
  {
   "cell_type": "code",
   "execution_count": 64,
   "metadata": {},
   "outputs": [],
   "source": [
    "# Train test split \n",
    "from datasets import Dataset\n",
    "input_column = \"newsDescription\"\n",
    "# output_column = \"headline\"\n",
    "output_column = \"shortDescription\"\n",
    "dataset = df[[input_column, output_column]]\n",
    "dataset = Dataset.from_pandas(dataset)\n",
    "dataset = dataset.train_test_split(test_size=0.1)"
   ]
  },
  {
   "cell_type": "markdown",
   "metadata": {},
   "source": [
    "The code for training the BART model was adapted from: https://huggingface.co/docs/transformers/en/tasks/summarization"
   ]
  },
  {
   "cell_type": "code",
   "execution_count": 65,
   "metadata": {},
   "outputs": [],
   "source": [
    "# Initalizing the model and tokenizer\n",
    "model_name = \"facebook/bart-large-cnn\"\n",
    "model = BartForConditionalGeneration.from_pretrained(model_name)\n",
    "tokenizer = BartTokenizer.from_pretrained(model_name)"
   ]
  },
  {
   "cell_type": "code",
   "execution_count": 66,
   "metadata": {},
   "outputs": [
    {
     "name": "stderr",
     "output_type": "stream",
     "text": [
      "Map: 100%|██████████| 540/540 [00:00<00:00, 1827.34 examples/s]\n",
      "Map: 100%|██████████| 61/61 [00:00<00:00, 1339.07 examples/s]\n"
     ]
    }
   ],
   "source": [
    "def preprocess_function(dataset):\n",
    "    model_inputs = tokenizer(dataset[input_column], max_length=1024, truncation=True)\n",
    "    labels = tokenizer(text_target=dataset[output_column], max_length=128, truncation=True)\n",
    "    model_inputs[\"labels\"] = labels[\"input_ids\"]\n",
    "    return model_inputs\n",
    "\n",
    "# Preprocessing the dataset\n",
    "dataset = dataset.map(preprocess_function, batched=True)"
   ]
  },
  {
   "cell_type": "code",
   "execution_count": 67,
   "metadata": {},
   "outputs": [],
   "source": [
    "data_collator = DataCollatorForSeq2Seq(tokenizer=tokenizer, model=model)"
   ]
  },
  {
   "cell_type": "code",
   "execution_count": 68,
   "metadata": {},
   "outputs": [],
   "source": [
    "rouge = evaluate.load(\"rouge\")\n",
    "bleu = evaluate.load(\"bleu\")\n",
    "\n",
    "def compute_metrics(eval_pred):\n",
    "    predictions, labels = eval_pred\n",
    "    decoded_preds = tokenizer.batch_decode(predictions, skip_special_tokens=True)\n",
    "    labels = np.where(labels != -100, labels, tokenizer.pad_token_id)\n",
    "    decoded_labels = tokenizer.batch_decode(labels, skip_special_tokens=True)\n",
    "\n",
    "    result = rouge.compute(predictions=decoded_preds, references=decoded_labels, use_stemmer=True)\n",
    "\n",
    "    bleu_score = bleu.compute(predictions=decoded_preds, references=decoded_labels)\n",
    "    result[\"bleu\"] = bleu_score[\"bleu\"]\n",
    "\n",
    "    prediction_lens = [np.count_nonzero(pred != tokenizer.pad_token_id) for pred in predictions]\n",
    "    result[\"gen_len\"] = np.mean(prediction_lens)\n",
    "\n",
    "    return {k: round(v, 4) for k, v in result.items()}"
   ]
  },
  {
   "cell_type": "code",
   "execution_count": 69,
   "metadata": {},
   "outputs": [
    {
     "name": "stderr",
     "output_type": "stream",
     "text": [
      "/home/tyler/miniconda3/envs/ml/lib/python3.10/site-packages/accelerate/accelerator.py:432: FutureWarning: Passing the following arguments to `Accelerator` is deprecated and will be removed in version 1.0 of Accelerate: dict_keys(['dispatch_batches', 'split_batches', 'even_batches', 'use_seedable_sampler']). Please pass an `accelerate.DataLoaderConfiguration` instead: \n",
      "dataloader_config = DataLoaderConfiguration(dispatch_batches=None, split_batches=False, even_batches=True, use_seedable_sampler=True)\n",
      "  warnings.warn(\n",
      "  0%|          | 0/115 [00:00<?, ?it/s]/home/tyler/miniconda3/envs/ml/lib/python3.10/site-packages/torch/nn/parallel/_functions.py:68: UserWarning: Was asked to gather along dimension 0, but all input tensors were scalars; will instead unsqueeze and return a vector.\n",
      "  warnings.warn('Was asked to gather along dimension 0, but all '\n",
      " 20%|██        | 23/115 [00:11<00:48,  1.88it/s]\n",
      " 20%|██        | 23/115 [00:16<00:48,  1.88it/s]"
     ]
    },
    {
     "name": "stdout",
     "output_type": "stream",
     "text": [
      "{'eval_loss': 1.542628288269043, 'eval_rouge1': 0.426, 'eval_rouge2': 0.3139, 'eval_rougeL': 0.3736, 'eval_rougeLsum': 0.3761, 'eval_bleu': 0.2074, 'eval_gen_len': 66.1311, 'eval_runtime': 4.8736, 'eval_samples_per_second': 12.516, 'eval_steps_per_second': 0.616, 'epoch': 1.0}\n"
     ]
    },
    {
     "name": "stderr",
     "output_type": "stream",
     "text": [
      " 40%|████      | 46/115 [00:28<00:33,  2.05it/s]\n",
      " 40%|████      | 46/115 [00:34<00:33,  2.05it/s]"
     ]
    },
    {
     "name": "stdout",
     "output_type": "stream",
     "text": [
      "{'eval_loss': 1.4988501071929932, 'eval_rouge1': 0.4298, 'eval_rouge2': 0.3188, 'eval_rougeL': 0.3761, 'eval_rougeLsum': 0.3776, 'eval_bleu': 0.2107, 'eval_gen_len': 67.5738, 'eval_runtime': 5.0644, 'eval_samples_per_second': 12.045, 'eval_steps_per_second': 0.592, 'epoch': 2.0}\n"
     ]
    },
    {
     "name": "stderr",
     "output_type": "stream",
     "text": [
      " 60%|██████    | 69/115 [00:45<00:22,  2.08it/s]\n",
      " 60%|██████    | 69/115 [00:50<00:22,  2.08it/s]"
     ]
    },
    {
     "name": "stdout",
     "output_type": "stream",
     "text": [
      "{'eval_loss': 1.472393274307251, 'eval_rouge1': 0.4116, 'eval_rouge2': 0.2967, 'eval_rougeL': 0.3565, 'eval_rougeLsum': 0.3579, 'eval_bleu': 0.1969, 'eval_gen_len': 68.1475, 'eval_runtime': 5.0847, 'eval_samples_per_second': 11.997, 'eval_steps_per_second': 0.59, 'epoch': 3.0}\n"
     ]
    },
    {
     "name": "stderr",
     "output_type": "stream",
     "text": [
      " 80%|████████  | 92/115 [01:02<00:10,  2.25it/s]\n",
      " 80%|████████  | 92/115 [01:07<00:10,  2.25it/s]"
     ]
    },
    {
     "name": "stdout",
     "output_type": "stream",
     "text": [
      "{'eval_loss': 1.4584698677062988, 'eval_rouge1': 0.4235, 'eval_rouge2': 0.3195, 'eval_rougeL': 0.3766, 'eval_rougeLsum': 0.377, 'eval_bleu': 0.2161, 'eval_gen_len': 68.623, 'eval_runtime': 5.1331, 'eval_samples_per_second': 11.884, 'eval_steps_per_second': 0.584, 'epoch': 4.0}\n"
     ]
    },
    {
     "name": "stderr",
     "output_type": "stream",
     "text": [
      "100%|██████████| 115/115 [01:19<00:00,  2.18it/s]\n",
      "100%|██████████| 115/115 [01:24<00:00,  1.36it/s]"
     ]
    },
    {
     "name": "stdout",
     "output_type": "stream",
     "text": [
      "{'eval_loss': 1.45393705368042, 'eval_rouge1': 0.4222, 'eval_rouge2': 0.3184, 'eval_rougeL': 0.3752, 'eval_rougeLsum': 0.3758, 'eval_bleu': 0.2152, 'eval_gen_len': 68.9672, 'eval_runtime': 5.083, 'eval_samples_per_second': 12.001, 'eval_steps_per_second': 0.59, 'epoch': 5.0}\n",
      "{'train_runtime': 84.7712, 'train_samples_per_second': 31.85, 'train_steps_per_second': 1.357, 'train_loss': 1.2301427426545517, 'epoch': 5.0}\n"
     ]
    },
    {
     "name": "stderr",
     "output_type": "stream",
     "text": [
      "\n"
     ]
    },
    {
     "data": {
      "text/plain": [
       "TrainOutput(global_step=115, training_loss=1.2301427426545517, metrics={'train_runtime': 84.7712, 'train_samples_per_second': 31.85, 'train_steps_per_second': 1.357, 'train_loss': 1.2301427426545517, 'epoch': 5.0})"
      ]
     },
     "execution_count": 69,
     "metadata": {},
     "output_type": "execute_result"
    }
   ],
   "source": [
    "training_args = Seq2SeqTrainingArguments(\n",
    "    output_dir=\".ignore-ft-bart-large-cnn\",\n",
    "    evaluation_strategy=\"epoch\",\n",
    "    learning_rate=2e-7,\n",
    "    per_device_train_batch_size=12,\n",
    "    per_device_eval_batch_size=12,\n",
    "    weight_decay=0.01,\n",
    "    save_total_limit=3,\n",
    "    num_train_epochs=5,\n",
    "    predict_with_generate=True,\n",
    "    fp16=True,\n",
    "    push_to_hub=False,\n",
    ")\n",
    "\n",
    "trainer = Seq2SeqTrainer(\n",
    "    model=model,\n",
    "    args=training_args,\n",
    "    train_dataset=dataset[\"train\"],\n",
    "    eval_dataset=dataset[\"test\"],\n",
    "    tokenizer=tokenizer,\n",
    "    data_collator=data_collator,\n",
    "    compute_metrics=compute_metrics,\n",
    ")\n",
    "\n",
    "trainer.train()"
   ]
  },
  {
   "cell_type": "code",
   "execution_count": 70,
   "metadata": {},
   "outputs": [
    {
     "name": "stdout",
     "output_type": "stream",
     "text": [
      "             Text: Business leaders are calling for leveraging the United Nations’ sustainable development goals to achieve global peace because the coronavirus pandemic is exacerbating social and economic inequalities not just in Japan, but worldwide.~Yoshimitsu Kobayashi, chairman of Mitsubishi Chemical Holdings Corp., said Saturday that the pandemic has forced a rethink of political and economic strategies. He called for shifting the focus of such plans from profit growth to building sustainable peace by addressing the deepening inequalities.\n",
      "Short Description: United Nation's sustainable development goals said key to global peace as the coronavirus pandemic exacerbates social and economic inequalities in Japan and across the globe.\n",
      "          Summary: Business leaders are calling for leveraging the United Nations’ sustainable development goals to achieve global peace. The coronavirus pandemic is exacerbating social and economic inequalities not just in Japan, but worldwide. The pandemic has forced a rethink of political and economic strategies, says the chairman of Mitsubishi Chemical Holdings Corp.\n"
     ]
    }
   ],
   "source": [
    "idx=10\n",
    "text = dataset[\"test\"][idx][input_column]\n",
    "short_description = dataset[\"test\"][idx][output_column]\n",
    "\n",
    "inputs = tokenizer(text, max_length=1024, return_tensors=\"pt\", truncation=True).input_ids\n",
    "inputs = inputs.to(model.device)\n",
    "outputs = model.generate(inputs, max_new_tokens=128, do_sample=False)\n",
    "summary = tokenizer.decode(outputs[0], skip_special_tokens=True)\n",
    "print(f\"     Article Text: {text}\")\n",
    "print(f\"Short Description: {short_description}\")\n",
    "print(f\"     Model Output: {summary}\")"
   ]
  },
  {
   "cell_type": "markdown",
   "metadata": {},
   "source": [
    "We can see in this example, the model is able to summarize this piece of text. However, the issue that\n",
    "I notice is that it copies the starting portion of the text most of the time."
   ]
  },
  {
   "cell_type": "code",
   "execution_count": 72,
   "metadata": {},
   "outputs": [
    {
     "data": {
      "image/png": "[encoded data removed]",
      "text/plain": [
       "<Figure size 640x480 with 1 Axes>"
      ]
     },
     "metadata": {},
     "output_type": "display_data"
    },
    {
     "data": {
      "image/png": "[encoded data removed]",
      "text/plain": [
       "<Figure size 640x480 with 1 Axes>"
      ]
     },
     "metadata": {},
     "output_type": "display_data"
    },
    {
     "data": {
      "image/png": "[encoded data removed]",
      "text/plain": [
       "<Figure size 640x480 with 1 Axes>"
      ]
     },
     "metadata": {},
     "output_type": "display_data"
    }
   ],
   "source": [
    "import matplotlib.pyplot as plt\n",
    "hist = pd.DataFrame(trainer.state.log_history)\n",
    "\n",
    "eval_loss = hist[\"eval_loss\"].dropna()\n",
    "eval_rouge1 = hist[\"eval_rouge1\"].dropna()\n",
    "eval_rouge2 = hist[\"eval_rouge2\"].dropna()\n",
    "eval_rougeL = hist[\"eval_rougeL\"].dropna()\n",
    "eval_bleu = hist[\"eval_bleu\"].dropna()\n",
    "\n",
    "plt.plot(eval_rouge1, label=\"eval_rouge1\")\n",
    "plt.plot(eval_rouge2, label=\"eval_rouge2\")\n",
    "plt.plot(eval_rougeL, label=\"eval_rougeL\")\n",
    "plt.xlabel(\"Epoch\")\n",
    "plt.ylabel(\"Value\")\n",
    "plt.legend()\n",
    "plt.show()\n",
    "\n",
    "plt.plot(eval_bleu, label=\"eval_bleu\")\n",
    "plt.xlabel(\"Epoch\")\n",
    "plt.ylabel(\"Value\")\n",
    "plt.legend()\n",
    "plt.show()\n",
    "\n",
    "plt.plot(eval_loss, label=\"eval_loss\", color=\"red\")\n",
    "plt.xlabel(\"Epoch\")\n",
    "plt.ylabel(\"Value\")\n",
    "plt.legend()\n",
    "plt.show()"
   ]
  },
  {
   "cell_type": "markdown",
   "metadata": {},
   "source": [
    "The bleu and rouge scores don't really change all that much even when varying the learning rate and the \n",
    "number of epochs. Even if the model's output doesn't really summarize the article the scores don't really\n",
    "change either. I'm not sure why this is the case...\n",
    "\n",
    "I think the results are impacted by the choice of LLM here. In this case BART uses both the encoder\n",
    "and decoder part of the Transformer's model introduced in the Attention is All You Need paper.\n",
    "In this case, the encoder part of the model is able to capture all the relationships in the\n",
    "article text to be used to train the auto-regressive decoder that generates the text.\n",
    "If instead we used a GPT styled model where it only contains the decoder of the Transformer model,\n",
    "the model would not be able to capture the dependencies in the input text as well."
   ]
  },
  {
   "cell_type": "markdown",
   "metadata": {},
   "source": [
    "# Part 2: Reinforcement Learning\n",
    "## Task 2:\n",
    "A simple example of an MDP would be an animal agent (e.g. bunny) and it's environment (e.g. wilderness).\n",
    "The bunny can have different states such as:\n",
    "- Calm\n",
    "- Hungry\n",
    "- Thirsty\n",
    "\n",
    "It can also have some actions to take such as:\n",
    "- Eating grass\n",
    "- Drinking water\n",
    "- Roaming\n",
    "\n",
    "The transition model would be kind of self explainatory:\n",
    "- Hungry + Eating -> Calm\n",
    "- Thirsty + Drinking -> Calm\n",
    "- Calm + Roaming -> Thirsty or Hungry\n",
    "\n",
    "The rewards for taking such actions would be:\n",
    "- 1 for Hungry + Eating\n",
    "- 1 for Thirsty + Drinking\n",
    "- 0.1 for Calm + Roaming\n",
    "- -0.5 for Calm + Eating or Drinking\n",
    "\n",
    "This can help the bunny stay alive by encouraging the agent to eat and drink when it's necessary\n",
    "and not stay in the same place.\n",
    "\n",
    "## Task 3:\n",
    "Humbert et al. Learning from an expert. http://www.laurentoudre.fr/publis/HADO-NIPS-16.pdf\n",
    "\n",
    "I found an interesting paper about a form of Apprenticeship Learning where an agent\n",
    "learns to mimic a human expert. Unfortunately this paper does not have open source code\n",
    "to look at.\n",
    "An issue that lets say a medical center does not have enough anesthesiologists\n",
    "to deal with an influx of critical patients. RL can be used to mimic experts\n",
    "to help alevate the burden on the human experts.\n",
    "\n",
    "In this paper, the authors train an agent\n",
    "to adminsiter anesthetic drugs given some observations about the patient\n",
    "without the use of expensive and time-consuming measurements from \n",
    "electroencephalogram (EEG) signals.\n",
    "They aim to use easier to measure signals such as: Heart Rate (HR),\n",
    "Mean Blood Pressure (MeanBP) and Respiratory Rate (RR).\n",
    "They also measure Inspired Fraction of AA (AAFi) which is used to measure\n",
    "the current dosage of the anesthesia.\n",
    "\n",
    "To solve this problem, the authors wanted to train an agent to mimic the expert\n",
    "using a simple MDP to encode the problem. Given the 4 measurements from above, \n",
    "they would discretise them to obtain the state.\n",
    "$$\n",
    "O = (\\text{HR, MeanBP, RR, AAFi})\n",
    "$$\n",
    "The possible actions are:\n",
    "[reducing drug, nothing, add drugs].\n",
    "To learn a policy, they first intialize the policy with bayesian inference\n",
    "with a uniform prior (using the expert trajectories). Then, they propogate\n",
    "this formation to states that were not observed with the expert trajectories\n",
    "using the following similarity metric:\n",
    "$$\n",
    "s(O_1, O_2) = \\exp (-\\theta^T(|O_1-O_2|))\n",
    "$$\n",
    "where:\n",
    "$$\n",
    "\\theta = (1, 1, 1, 100)\n",
    "$$\n",
    "\n",
    "This paper however, doesn't really provide that much detail to why\n",
    "those chose certain values for $\\theta$.\n",
    "\n",
    "## Task 4 (6000 level):\n",
    "See the `q_learning_tic-tac-toe.ipynb` for this task."
   ]
  }
 ],
 "metadata": {
  "kernelspec": {
   "display_name": "ml",
   "language": "python",
   "name": "python3"
  },
  "language_info": {
   "codemirror_mode": {
    "name": "ipython",
    "version": 3
   },
   "file_extension": ".py",
   "mimetype": "text/x-python",
   "name": "python",
   "nbconvert_exporter": "python",
   "pygments_lexer": "ipython3",
   "version": "3.10.6"
  }
 },
 "nbformat": 4,
 "nbformat_minor": 2
}
